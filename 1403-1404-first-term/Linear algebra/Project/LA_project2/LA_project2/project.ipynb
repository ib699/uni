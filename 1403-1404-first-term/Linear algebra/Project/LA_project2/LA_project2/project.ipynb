{
 "cells": [
  {
   "cell_type": "markdown",
   "id": "3876a7ad",
   "metadata": {},
   "source": [
    "<font face=\"B Mitra\" size=4>\n",
    "<div dir=rtl align=center>\n",
    "\n",
    "<br>\n",
    "<img src=\"https://aut.ac.ir/templates/tmpl_modern01/images/logo_fa.png\" alt=\"Amirkabir University Logo\" width=\"100\">\n",
    "\n",
    "<br>\n",
    "<font size=2>\n",
    "<b>دانشگاه صنعتی امیرکبیر - دانشکده ریاضی و علوم کامپیوتر</b>\n",
    "</font>\n",
    "\n",
    "<br>\n",
    "<font size=6>\n",
    "<b> جبرخطی کاربردی</b>\n",
    "</font>\n",
    "\n",
    "<br>\n",
    "<hr/>\n",
    "<font size=6>\n",
    "<b>پروژه دوم</b>\n",
    "</font>\n",
    "\n",
    "</div>\n",
    "</font>"
   ]
  },
  {
   "cell_type": "markdown",
   "metadata": {},
   "source": [
    "<font face=\"B Mitra\" size=5>\n",
    "<div dir=rtl>\n",
    "\n",
    "<p>\n",
    "<font size=5>\n",
    "لطفا فایل زیپ نهایی را با الگوی زیر در سامانه کورسز آپلود کنید.\n",
    "</font>\n",
    "</p>\n",
    "\n",
    "<div dir=ltr>\n",
    "<font face=\"Times New Roman\" size=5 dir=ltr>\n",
    "شماره دانشجویی_PRJ2.zip\n",
    "</font>\n",
    "</div>\n"
   ],
   "id": "7a62c375271021f5"
  },
  {
   "cell_type": "markdown",
   "id": "2a8986f1ebe6e2fe",
   "metadata": {},
   "source": [
    "<font face=\"B Mitra\" size=10>\n",
    "<div dir=rtl>\n",
    "<p>\n",
    "<font size=5>\n",
    " پروژه محاسبه رتبه صفحات (PageRank) در این پروژه، شما باید الگوریتم \"PageRank\" را پیاده‌سازی کنید. این الگوریتم برای رتبه‌بندی صفحات وب استفاده می‌شود و با محاسبه بردار ویژه (Eigenvector) و مقدار ویژه (Eigenvalue) از ماتریس پیوندها عمل می‌کند.\n",
    "</font>\n",
    "</p>\n"
   ]
  },
  {
   "cell_type": "markdown",
   "id": "c34038f67aeee641",
   "metadata": {},
   "source": [
    "<font face=\"B Mitra\" size=5>\n",
    "<div dir=rtl>\n",
    "\n",
    "<style>\n",
    "    body {\n",
    "        font-family: 'Vazir', sans-serif;\n",
    "        direction: rtl;\n",
    "        text-align: right;\n",
    "    }\n",
    "</style>\n",
    "### بخش اول: پیاده‌سازی Parser\n",
    "\n",
    "در این بخش، شما باید کدی بنویسید که داده‌های مربوط به پیوندهای بین صفحات را استخراج کند که بتوانید در مرحله بعدی با استفاده از این اطلاعات ماتریس پیوندها را بسازید. ابتدا باید فایل‌های HTML را از پوشه \"Pages\" بارگذاری کنید و پیوندهای موجود در آن‌ها را پیدا کنید.\n",
    "\n",
    "در این قسمت، شما باید یک تابع `()parse_page_links` را پیاده‌سازی کنید که فایل‌ها را خوانده و پیوندها را شناسایی کند. این پیوندها به شما کمک می‌کنند تا ماتریس پیوندها بین صفحات را بسازید.\n",
    "\n",
    "\n",
    "</div>\n",
    "</font>"
   ]
  },
  {
   "cell_type": "code",
   "id": "e401241d41ae8807",
   "metadata": {
    "ExecuteTime": {
     "end_time": "2024-12-03T08:20:13.640856Z",
     "start_time": "2024-12-03T08:20:13.631738Z"
    }
   },
   "source": [
    "import os\n",
    "import re\n",
    "\n",
    "\n",
    "def parse_page_links():\n",
    "    pages_dir = \"Pages\"\n",
    "    if not os.path.exists(pages_dir):\n",
    "        raise FileNotFoundError(f\"Directory '{pages_dir}' does not exist!\")\n",
    "\n",
    "    links = {}\n",
    "    for file_name in os.listdir(pages_dir):\n",
    "        if file_name.endswith(\".html\"):\n",
    "            page_name = file_name.split(\".\")[0]\n",
    "            links[page_name] = []\n",
    "            with open(os.path.join(pages_dir, file_name), \"r\", encoding=\"utf-8\") as file:\n",
    "                content = file.read()\n",
    "                # Updated regex to match `link:to:<PageNumber>` format\n",
    "                page_links = re.findall(r'link:to:(Page\\d+)', content)\n",
    "                links[page_name].extend(page_links)\n",
    "    return links\n",
    "\n",
    "parse_page_links()"
   ],
   "outputs": [
    {
     "data": {
      "text/plain": [
       "{'Page1': ['Page2', 'Page4'],\n",
       " 'Page5': ['Page4'],\n",
       " 'Page4': ['Page4', 'Page1', 'Page3', 'Page2', 'Page5'],\n",
       " 'Page3': ['Page1'],\n",
       " 'Page2': ['Page1', 'Page3', 'Page4']}"
      ]
     },
     "execution_count": 4,
     "metadata": {},
     "output_type": "execute_result"
    }
   ],
   "execution_count": 4
  },
  {
   "cell_type": "markdown",
   "id": "23970a6f3df80c67",
   "metadata": {},
   "source": [
    "<font face=\"B Mitra\" size=10>\n",
    "<div dir=rtl>\n",
    "<p>\n",
    "<font size=5>\n",
    "\n",
    "### بخش دوم: ساخت ماتریس پیوندها\n",
    "\n",
    "در الگوریتم PageRank، ماتریس پیوندها یا ماتریس احتمال، ماتریسی مربعی است که اندازه آن برابر با تعداد صفحات (n × n) است. هر عنصر در این ماتریس، احتمال وجود لینک از یک صفحه به صفحه دیگر را نشان می‌دهد. در ادامه نحوه ساخت این ماتریس توضیح داده شده است:\n",
    "\n",
    "#### تعریف ماتریس:\n",
    "\n",
    "- **سطرها (Rows):** نشان‌دهنده صفحات مقصد (صفحه‌ای که به آن لینک داده می‌شود).\n",
    "- **ستون‌ها (Columns):** نشان‌دهنده صفحات مبدأ (صفحه‌ای که لینک از آن آغاز می‌شود).\n",
    "- **عناصر ماتریس (M<sub>ij</sub>):**\n",
    "  - اگر صفحه j به صفحه i لینک داده باشد: مقدار آن برابر است با احتمال انتقال، یعنی 1 تقسیم بر تعداد کل لینک‌های خروجی از صفحه j.\n",
    "  - اگر صفحه j به صفحه i لینک ندهد: مقدار آن برابر با 0 است.\n",
    "\n",
    "#### ویژگی‌های ماتریس:\n",
    "\n",
    "1. **ستون-محور بودن:** مقادیر هر ستون باید به 1 نرمال‌سازی شوند (مجموع مقادیر هر ستون برابر با 1 باشد). این موضوع نشان‌دهنده احتمال انتقال است.\n",
    "2. **لینک‌های گمشده:** اگر صفحه‌ای هیچ لینک خروجی نداشته باشد (ستونی با مقادیر صفر)، باید فرض کنید که احتمال انتقال به تمام صفحات برابر است (توزیع یکنواخت).\n",
    "\n",
    "#### مثال:\n",
    "\n",
    "فرض کنید 3 صفحه داریم:\n",
    "\n",
    "- **صفحه 1** به صفحات 2 و 3 لینک می‌دهد.\n",
    "- **صفحه 2** فقط به صفحه 3 لینک می‌دهد.\n",
    "- **صفحه 3** هیچ لینکی ندارد.\n",
    "\n",
    "ماتریس پیوندها به این صورت خواهد بود:\n",
    "\n",
    "| **صفحات** | **صفحه 1** | **صفحه 2** | **صفحه 3** |\n",
    "|------------|------------|------------|------------|\n",
    "| **صفحه 1** | 0          | 0          | 1/3        |\n",
    "| **صفحه 2** | 1/2        | 0          | 1/3        |\n",
    "| **صفحه 3** | 1/2        | 1          | 1/3        |\n",
    "\n",
    "**توضیح:**\n",
    "\n",
    "- ستون اول نشان می‌دهد که صفحه 1 به صفحات 2 و 3 لینک داده و به صفحه 1 لینک نمی‌دهد.\n",
    "- ستون دوم نشان می‌دهد که صفحه 2 فقط به صفحه 3 لینک داده است.\n",
    "- ستون سوم نشان می‌دهد که صفحه 3 هیچ لینک خروجی ندارد، بنابراین مقادیر ستون به‌صورت یکنواخت بین تمام صفحات تقسیم شده است.\n",
    "\n",
    "در این قسمت شما باید یک تابع `()construct_link_matrix` را پیاده‌سازی کنید که با استفاده از اطلاعات استخراج شده از قسمت قبلی ماتریس پیوندها را بسازد.\n",
    "\n",
    "</font>\n",
    "</p>\n",
    "</div>\n",
    "</font>"
   ]
  },
  {
   "cell_type": "code",
   "id": "cbd7501c24cb67eb",
   "metadata": {
    "ExecuteTime": {
     "end_time": "2024-12-03T09:03:36.559753Z",
     "start_time": "2024-12-03T09:03:36.546768Z"
    }
   },
   "source": [
    "import numpy as np\n",
    "\n",
    "def construct_link_matrix():\n",
    "    \"\"\"\n",
    "    Construct the link matrix from the extracted page links.\n",
    "\n",
    "    Returns:\n",
    "        np.ndarray: The link matrix.\n",
    "    \"\"\"\n",
    "    links = parse_page_links()\n",
    "    pages = sorted(links.keys(), key=lambda x: int(x[4:]))\n",
    "    n = len(pages)\n",
    "    page_index = {page: idx for idx, page in enumerate(pages)}\n",
    "\n",
    "    link_matrix = np.zeros((n, n))\n",
    "    for page, linked_pages in links.items():\n",
    "        if linked_pages:\n",
    "            for linked_page in linked_pages:\n",
    "                link_matrix[page_index[linked_page], page_index[page]] = 1 / len(linked_pages)\n",
    "        else:\n",
    "            # Handle dangling pages: distribute links evenly to all pages\n",
    "            link_matrix[:, page_index[page]] = 1 / n\n",
    "\n",
    "    return link_matrix\n",
    "\n",
    "construct_link_matrix()"
   ],
   "outputs": [
    {
     "data": {
      "text/plain": [
       "array([[0.        , 0.33333333, 1.        , 0.2       , 0.        ],\n",
       "       [0.5       , 0.        , 0.        , 0.2       , 0.        ],\n",
       "       [0.        , 0.33333333, 0.        , 0.2       , 0.        ],\n",
       "       [0.5       , 0.33333333, 0.        , 0.2       , 1.        ],\n",
       "       [0.        , 0.        , 0.        , 0.2       , 0.        ]])"
      ]
     },
     "execution_count": 10,
     "metadata": {},
     "output_type": "execute_result"
    }
   ],
   "execution_count": 10
  },
  {
   "cell_type": "markdown",
   "id": "871deb345514e674",
   "metadata": {},
   "source": [
    "<font face=\"B Mitra\" size=10>\n",
    "<div dir=rtl>\n",
    "<p>\n",
    "<font size=5>\n",
    "\n",
    "### بخش سوم: محاسبه مقدار ویژه و بردار ویژه ماتریس پیوندها\n",
    "\n",
    "در محاسبات PageRank، به دنبال حالتی پایدار هستیم که در آن توزیع بازدیدکنندگان از صفحات تغییری نکند. فرمول اولیه:\n",
    "\n",
    "r<sub>i</sub> = ∑(r<sub>j</sub> / N<sub>j</sub>) برای تمام j ∈ I<sub>i</sub>\n",
    "\n",
    "(مجموعه I<sub>i</sub> بیانگر صفحاتی هستند که در هر یک از آنها به i لینک وجود دارد.)\n",
    "\n",
    "این فرمول بیانگر این است که مقدار رتبه هر صفحه به رتبه صفحات ورودی به آن وابسته است. این فرمول می‌تواند به شکل ماتریسی زیر نوشته شود:\n",
    "\n",
    "A * r = λ * r\n",
    "\n",
    "- A: ماتریس احتمال انتقال (یا ماتریس پیوندها).\n",
    "- r: بردار رتبه صفحات (بردار ویژه).\n",
    "- λ: مقدار ویژه.\n",
    "\n",
    "#### هدف:\n",
    "محاسبه بردار ویژه (r) و مقدار ویژه (λ) ماتریس پیوندها (A)، به گونه‌ای که نشان‌دهنده حالت پایدار سیستم باشد.\n",
    "\n",
    "#### نکات کلیدی:\n",
    "- بردار رتبه (r) باید نرمال‌سازی شود، به گونه‌ای که مجموع مقادیر آن برابر با 1 باشد.\n",
    "- در حالت پایدار، مقدار ویژه (λ) باید برابر با 1 باشد، زیرا مجموع احتمال‌های انتقال ثابت است.\n",
    "\n",
    "#### روش محاسبه:\n",
    "1. از روش‌های عددی برای محاسبه مقدار ویژه و بردار ویژه ماتریس استفاده کنید.\n",
    "2. از کتابخانه‌های مناسب مانند **NumPy** یا **SciPy** برای محاسبات بهره ببرید.\n",
    "3. بررسی کنید که آیا بردار رتبه به حالت همگرا رسیده است یا خیر.\n",
    "\n",
    "#### پیاده‌سازی:\n",
    "در این بخش شما باید یک تابع `()solve_eigen_problem` را پیاده‌سازی کنید که مقادیر ویژه و بردارهای ویژه ماتریس پیوندها را با استفاده از معادله بالا پیدا کند.\n",
    "\n",
    "توجه کنید که این قسمت را باید خودتان پیاده سازی کنید و تنها مجاز به استفاده از numpy هستید.\n",
    "</font>\n",
    "</p>\n",
    "</div>\n",
    "</font>"
   ]
  },
  {
   "cell_type": "code",
   "id": "1852f26a93efadb9",
   "metadata": {
    "ExecuteTime": {
     "end_time": "2024-12-03T11:41:54.975107Z",
     "start_time": "2024-12-03T11:41:54.969348Z"
    }
   },
   "source": [
    "def solve_eigen_problem(matrix):\n",
    "    \"\"\"\n",
    "    Solve the eigenvalue problem to find the dominant eigenvector.\n",
    "\n",
    "    Args:\n",
    "        matrix (np.ndarray): The link matrix.\n",
    "\n",
    "    Returns:\n",
    "        np.ndarray: The dominant eigenvector.\n",
    "    \"\"\"\n",
    "    eigvals, eigvecs = np.linalg.eig(matrix)\n",
    "    dominant_index = np.argmax(eigvals)\n",
    "    dominant_vector = eigvecs[:, dominant_index].real\n",
    "    return dominant_vector / np.sum(dominant_vector)  # Normalize to sum to 1"
   ],
   "outputs": [],
   "execution_count": 11
  },
  {
   "cell_type": "markdown",
   "id": "42548eba80f99804",
   "metadata": {},
   "source": [
    "<font face=\"B Mitra\" size=10>\n",
    "<div dir=rtl>\n",
    "<p>\n",
    "<font size=5>\n",
    "\n",
    "### بخش چهارم: محاسبه بردار ویژه با روش توان (Power Method)\n",
    "\n",
    "روش توان برای محاسبه بردار ویژه متناظر با بزرگ‌ترین مقدار ویژه یک ماتریس استفاده می‌شود. در PageRank، ماتریس انتقال (A) به صورت ستونی-تصادفی (Column-Stochastic) تعریف شده است، بنابراین مقدار ویژه غالب برابر ۱ است. از این رو، می‌توانیم از روش توان برای محاسبه بردار ویژه استفاده کنیم.\n",
    "\n",
    "### ایده کلی:\n",
    "\n",
    "1. فرض می‌کنیم یک بردار اولیه دلخواه \\( v_0 \\) داریم.\n",
    "2. بردار \\( v \\) را با ضرب ماتریس \\( A \\) در \\( v_0 \\) به‌روزرسانی می‌کنیم:\n",
    "   \\( v_{k+1} = A v_k \\)\n",
    "3. در هر گام، \\( v_{k+1} \\) را نرمال‌سازی می‌کنیم تا طول آن ثابت باشد:\n",
    "   \\( v_{k+1} = \\frac{v_{k+1}}{\\|v_{k+1}\\|} \\)\n",
    "4. این فرآیند را تکرار می‌کنیم تا بردار \\( v \\) به یک مقدار پایدار (بردار ویژه) همگرا شود.\n",
    "\n",
    "### مراحل پیاده‌سازی:\n",
    "\n",
    "1. مقدار اولیه بردار \\( v_0 \\) را به‌صورت یکنواخت (Uniform) انتخاب کنید، به طوری که مجموع مقادیر آن برابر ۱ باشد.\n",
    "2. حلقه‌ای ایجاد کنید که در هر گام بردار جدید \\( v_{k+1} \\) را محاسبه کرده و نرمال‌سازی کند.\n",
    "3. معیار توقف را تعیین کنید (مثلاً وقتی تغییرات بین \\( v_k \\) و \\( v_{k+1} \\) از یک حد مشخص کمتر شد، الگوریتم متوقف شود).\n",
    "4. مقدار نهایی \\( v \\) بردار ویژه متناظر با مقدار ویژه ۱ است.\n",
    "\n",
    "#### نکات مهم:\n",
    "\n",
    "- ماتریس انتقال (A) باید به درستی ستون-محور باشد (مجموع هر ستون برابر با ۱ باشد).\n",
    "- برای پیاده‌سازی، از کتابخانه‌های پایتون مانند **NumPy** برای ضرب ماتریس و نرمال‌سازی بردارها استفاده کنید.\n",
    "- معیار همگرایی را می‌توانید بر اساس **تفاضل اقلیدسی** یا **تفاضل مقدار بردار** تعیین کنید.\n",
    "\n",
    "#### پیاده‌سازی:\n",
    "در این بخش شما باید یک تابع `()power_method` را پیاده‌سازی کنید که بردار ویژه متناظر با مقدار ویژه ۱ ماتریس انتقال را محاسبه کند.\n",
    "\n",
    "</font>\n",
    "</p>\n",
    "</div>\n",
    "</font>"
   ]
  },
  {
   "cell_type": "code",
   "id": "ae7fcc24770667b1",
   "metadata": {
    "ExecuteTime": {
     "end_time": "2024-12-03T11:42:00.402599Z",
     "start_time": "2024-12-03T11:42:00.395233Z"
    }
   },
   "source": [
    "def power_method(matrix, tol=1e-6, max_iter=100):\n",
    "    \"\"\"\n",
    "    Use the power method to compute the dominant eigenvector.\n",
    "\n",
    "    Args:\n",
    "        matrix (np.ndarray): The link matrix.\n",
    "        tol (float): Convergence tolerance.\n",
    "        max_iter (int): Maximum number of iterations.\n",
    "\n",
    "    Returns:\n",
    "        np.ndarray: The dominant eigenvector.\n",
    "    \"\"\"\n",
    "    n = matrix.shape[0]\n",
    "    vector = np.ones(n) / n  # Start with a uniform vector\n",
    "\n",
    "    for _ in range(max_iter):\n",
    "        new_vector = matrix @ vector\n",
    "        new_vector /= np.sum(new_vector)  # Normalize\n",
    "        if np.linalg.norm(new_vector - vector) < tol:\n",
    "            break\n",
    "        vector = new_vector\n",
    "\n",
    "    return vector"
   ],
   "outputs": [],
   "execution_count": 12
  },
  {
   "cell_type": "markdown",
   "id": "ba9175c127a8002d",
   "metadata": {},
   "source": [
    "<font face=\"B Mitra\" size=10>\n",
    "<div dir=rtl>\n",
    "<p>\n",
    "<font size=5>\n",
    "\n",
    "### بخش ششم: نمایش نتایج جستجو\n",
    "\n",
    "در این بخش، شما باید نتایج جستجو را نمایش دهید. پس از محاسبه بردار ویژه از قسمت‌های ۳ و ۴ و مقایسه مقادیر آنها، باید صفحات را بر اساس مقادیر موجود در بردار ویژه مرتب کنید و رتبه‌بندی نهایی را نشان دهید.\n",
    "\n",
    "#### مراحل نمایش نتایج:\n",
    "1. **مرتب‌سازی صفحات:** مقادیر بردار ویژه را به همراه شناسه صفحات مرتب کنید (نزولی) تا بالاترین رتبه در بالای لیست قرار گیرد.\n",
    "2. **نمایش رتبه‌بندی:** صفحات را با ذکر رتبه و مقدار بردار ویژه آنها به صورت لیستی نمایش دهید.\n",
    "3. **قالب‌بندی نتایج:** برای هر صفحه، اطلاعات مربوط به رتبه، شناسه صفحه، و مقدار اهمیت (از بردار ویژه) را به شکلی خوانا ارائه کنید.\n",
    "\n",
    "#### مثال:\n",
    "فرض کنید بردار ویژه نهایی به صورت زیر است:\n",
    "\\[ r = [0.4, 0.3, 0.2, 0.1] \\]\n",
    "اگر صفحات به ترتیب \\[Page 1, Page 2, Page 3, Page 4\\] نام‌گذاری شده باشند، نتایج نمایش داده‌شده به این شکل خواهد بود:\n",
    "\n",
    "| **رتبه** | **شناسه صفحه** | **اهمیت (PageRank)** |\n",
    "|-----------|----------------|----------------------|\n",
    "| 1         | Page 1         | 0.4                  |\n",
    "| 2         | Page 2         | 0.3                  |\n",
    "| 3         | Page 3         | 0.2                  |\n",
    "| 4         | Page 4         | 0.1                  |\n",
    "\n",
    "#### نکات مهم:\n",
    "- **نرمال‌سازی نهایی:** اطمینان حاصل کنید که مقادیر بردار ویژه در مجموع برابر ۱ باشد (نمایش به صورت احتمال).\n",
    "- **قابلیت جستجو:** در صورت نیاز، قابلیت فیلتر کردن یا جستجوی صفحات خاص را به نتایج اضافه کنید.\n",
    "- **فرمت‌بندی گرافیکی:** در صورت امکان، نتایج را به صورت نمودار ستونی یا دیگر اشکال بصری نمایش دهید تا خوانایی بهبود یابد.\n",
    "\n",
    "</font>\n",
    "</p>\n",
    "</div>\n",
    "</font>"
   ]
  },
  {
   "cell_type": "code",
   "id": "73a0f42b",
   "metadata": {
    "ExecuteTime": {
     "end_time": "2024-12-03T11:44:16.939514Z",
     "start_time": "2024-12-03T11:44:16.928670Z"
    }
   },
   "source": [
    "import numpy as np\n",
    "matrix = construct_link_matrix()\n",
    "eigenvector1 = power_method(matrix)\n",
    "eigenvector2 = solve_eigen_problem(matrix)\n",
    "print(\"\\nPower Method Results:\")\n",
    "for page in np.argsort(eigenvector1)[::-1]:\n",
    "    print(\"Page \" + str(page + 1))\n",
    "\n",
    "print(\"\\nSearch Results:\")\n",
    "for page in np.argsort(eigenvector2)[::-1]:\n",
    "    print(\"Page \" + str(page + 1))"
   ],
   "outputs": [
    {
     "name": "stdout",
     "output_type": "stream",
     "text": [
      "\n",
      "Power Method Results:\n",
      "Page 4\n",
      "Page 1\n",
      "Page 2\n",
      "Page 3\n",
      "Page 5\n",
      "\n",
      "Search Results:\n",
      "Page 4\n",
      "Page 1\n",
      "Page 2\n",
      "Page 3\n",
      "Page 5\n"
     ]
    }
   ],
   "execution_count": 16
  },
  {
   "cell_type": "markdown",
   "id": "ef37173b",
   "metadata": {},
   "source": [
    "<font face=\"B Mitra\" size=10>\n",
    "<div dir=rtl>\n",
    "<p>\n",
    "<font size=5>\n",
    "\n",
    "در این بخش، شما باید نتایج PageRank و امتیازات اختصاصی صفحات را به صورت نمودار ستونی نمایش دهید. این نمایش گرافیکی به شما کمک می‌کند تا تفاوت مقادیر PageRank و امتیازات صفحات را به صورت بصری مشاهده کنید.\n",
    "\n",
    "#### مراحل نمایش گرافیکی:\n",
    "1. **دسته‌بندی مقادیر:** مقادیر PageRank و امتیازات هر صفحه را به ترتیب مرتب کنید.\n",
    "2. **رسم نمودار ستونی:** برای هر صفحه دو مقدار PageRank و امتیاز اختصاصی در کنار هم رسم کنید.\n",
    "3. **برچسب‌گذاری محورها:** محور افقی به صفحات و محور عمودی به مقادیر اختصاص داده شود.\n",
    "4. **استفاده از رنگ‌های متفاوت:** برای نمایش PageRank و امتیازها از رنگ‌های متفاوت استفاده کنید تا تفاوت‌ها مشخص باشد.\n",
    "\n",
    "#### نکات مهم:\n",
    "- مطمئن شوید که صفحات بر اساس مقادیر PageRank مرتب شده‌اند.\n",
    "- برچسب‌ها و عنوان‌های مناسب برای نمودار اضافه کنید.\n",
    "- از ابزارهای استاندارد پایتون مانند `matplotlib` برای رسم نمودار استفاده کنید.\n",
    "\n",
    "</font>\n",
    "</p>\n",
    "</div>\n",
    "</font>"
   ]
  },
  {
   "cell_type": "code",
   "id": "ecd790ce",
   "metadata": {
    "ExecuteTime": {
     "end_time": "2024-12-03T11:42:31.488203Z",
     "start_time": "2024-12-03T11:42:30.409185Z"
    }
   },
   "source": [
    "import matplotlib.pyplot as plt\n",
    "def visualize_pagerank(pages, scores):\n",
    "    \"\"\"\n",
    "    Visualizes the PageRank scores using a bar chart.\n",
    "\n",
    "    Args:\n",
    "        pages (list): A list of page identifiers (e.g., [\"Page 1\", \"Page 2\", ...]).\n",
    "        scores (list or np.array): The corresponding PageRank scores for the pages.\n",
    "    \"\"\"\n",
    "    # Sort pages and scores based on scores in descending order\n",
    "    sorted_indices = np.argsort(scores)[::-1]\n",
    "    sorted_pages = [pages[i] for i in sorted_indices]\n",
    "    sorted_scores = [scores[i] for i in sorted_indices]\n",
    "\n",
    "    # Plot the bar chart\n",
    "    plt.figure(figsize=(10, 6))\n",
    "    plt.bar(sorted_pages, sorted_scores)\n",
    "    plt.xlabel(\"Pages\")\n",
    "    plt.ylabel(\"PageRank Score\")\n",
    "    plt.title(\"PageRank Results\")\n",
    "    plt.show()\n",
    "    \n",
    "pages = [f\"Page {i + 1}\" for i in range(len(matrix))]\n",
    "scores = power_method(matrix)  # Replace with the result from `solve_eigen_problem` if needed\n",
    "\n",
    "# Visualize the PageRank scores\n",
    "visualize_pagerank(pages, scores)"
   ],
   "outputs": [
    {
     "data": {
      "text/plain": [
       "<Figure size 1000x600 with 1 Axes>"
      ],
      "image/png": "[encoded data removed]"
     },
     "metadata": {},
     "output_type": "display_data"
    }
   ],
   "execution_count": 14
  },
  {
   "cell_type": "markdown",
   "id": "56809c2b",
   "metadata": {},
   "source": [
    "<font face=\"B Mitra\" size=10>\n",
    "<div dir=rtl>\n",
    "<p>\n",
    "<font size=5>\n",
    "\n",
    "(امتیازی)\n",
    "\n",
    "در این بخش، شما باید وزن اختصاصی به هر لینک بین صفحات اضافه کنید تا تأثیر آن لینک در الگوریتم PageRank متناسب با وزن آن باشد. این بخش به شما کمک می‌کند رتبه‌بندی صفحات را با دقت بیشتری انجام دهید.\n",
    "\n",
    "#### سؤالات:\n",
    "1. **تعریف وزن‌ها:** برای هر لینک بین صفحات چگونه می‌توان وزن مناسب اختصاص داد؟ مثالی ارائه دهید. برای استفاده از وزن‌ها از دایرکتوری WeightedPages استفاده کنید.\n",
    "2. **ساخت ماتریس پیوندها:** نحوه به‌روزرسانی ماتریس پیوندها با در نظر گرفتن وزن‌ها چگونه است؟ فرمولی برای این کار بنویسید.\n",
    "3. **نرمال‌سازی:** چرا باید مجموع وزن‌های خروجی هر صفحه برابر با ۱ باشد؟ الگوریتمی برای نرمال‌سازی ماتریس پیشنهاد کنید.\n",
    "4. **محاسبه PageRank:** با استفاده از ماتریس وزنی، الگوریتمی برای محاسبه PageRank بنویسید.\n",
    "5. **نمایش نتایج:** چگونه می‌توان تأثیر وزن‌ها بر رتبه‌بندی صفحات را تحلیل و نمایش داد؟ به صورت نمودار ستونی توضیح دهید.\n",
    "\n",
    "#### نکات مهم:\n",
    "- وزن هر لینک متناسب با اهمیت آن است.\n",
    "- نرمال‌سازی وزن‌ها به دقت الگوریتم کمک می‌کند.\n",
    "- نمایش بصری نتایج باعث می‌شود تفاوت رتبه‌ها واضح‌تر باشد.\n",
    "\n",
    "</font>\n",
    "</p>\n",
    "</div>\n",
    "</font>"
   ]
  }
 ],
 "metadata": {
  "kernelspec": {
   "display_name": "base",
   "language": "python",
   "name": "python3"
  },
  "language_info": {
   "codemirror_mode": {
    "name": "ipython",
    "version": 3
   },
   "file_extension": ".py",
   "mimetype": "text/x-python",
   "name": "python",
   "nbconvert_exporter": "python",
   "pygments_lexer": "ipython3",
   "version": "3.10.8"
  }
 },
 "nbformat": 4,
 "nbformat_minor": 5
}
