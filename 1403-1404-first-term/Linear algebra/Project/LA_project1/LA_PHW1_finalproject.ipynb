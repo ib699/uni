{
 "cells": [
  {
   "attachments": {},
   "cell_type": "markdown",
   "metadata": {},
   "source": [
    "# Linear Algebra Practical Homework 1:\n",
    "\n",
    "In this project we are trying to solve a simple example of leontief input_output model.\n",
    "\n",
    "The following assignment consists of:\n",
    "1. Finding the consumption matrix C from the given table\n",
    "2. Finding the reduced row echelon form of the augmented matrix [I-C | d] \n",
    "3. Calculating the production vector x\n",
    "\n",
    "TAs in charge: @KHprnd , @kiana_shh"
   ]
  },
  {
   "cell_type": "markdown",
   "metadata": {},
   "source": [
    "Please fill in the following information:\n",
    "\n",
    "- Student: Ibrahim Sedighi\n",
    "- Student ID: 9931098"
   ]
  },
  {
   "cell_type": "markdown",
   "metadata": {
    "collapsed": false
   },
   "source": [
    "# How to complete this notebook?\n",
    "To complete this notebook you just need to change the parts of code that is marked by comment `#CHNAGE THIS PART`.Please do not change cells that contais comment `# DO NOT CHNAGE THIS PART`.These cells are for evaluating your implementation."
   ]
  },
  {
   "attachments": {},
   "cell_type": "markdown",
   "metadata": {},
   "source": [
    "# Attention!\n",
    " - You are free to add, remove or edit each cell in any way you desire.\n",
    " - We strongly recommend you to observe the default order of different parts of this file.\n",
    " - NO PREDEFINED BUILT-IN FUNCTION OF EXTERNAL LIBRARIES Except NUMPY IS ALLOWED!\n",
    " - Please pay enough attention to each step, perceive all the aspects of the model and get ready for the presentation!"
   ]
  },
  {
   "cell_type": "markdown",
   "metadata": {},
   "source": [
    "# Additional Resources and References\n",
    "\n",
    "Below are some useful links to assist with your assignment:\n",
    "\n",
    "- [Link 1](https://math.libretexts.org/Bookshelves/Applied_Mathematics/Applied_Finite_Mathematics_(Sekhon_and_Bloom)/02%3A_Matrices/2.06%3A_Applications__Leontief_Models)\n",
    "- [Link 2](https://bloomingtontutors.com/blog/how-to-understand-and-solve-leontief-input-output-model-technology-matrix-problems) "
   ]
  },
  {
   "cell_type": "markdown",
   "metadata": {},
   "source": [
    "# Leontief model definition\n",
    "Input-output analysis is a form of macroeconomic analysis based on the interdependencies between different economic sectors or industries.\n",
    "As you know the ecconomy divides into sectors where each sector produces goods and services not only for itself but also for other sectors so each sector has an effect on others.\n",
    "This model helps us to find out how much goods do we need to produce in order to meet the outside and intermidiate demands.\n",
    "The leontief model is branched into two submodels : closed and open.\n",
    "- open model : some production is consumed by industries, and the rest is consumed by external bodies.\n",
    "- closed model : all production is consumed by industries.\n",
    "\n",
    "the equation for the open model is x = Cx + d, where d represents he demand matrix. In a closed economy, the equation is x = Cx, which means the total input equals the total output."
   ]
  },
  {
   "cell_type": "markdown",
   "metadata": {},
   "source": [
    "# Problem description\n",
    "\n",
    "Suppose an open economy consists of Coal, Electric, and Steel sectors, and the output of each sector is distributed among the various sectors as shown in the table below,\n",
    "where the entries in a column represent the fractional parts of a sectors total output.\n",
    "\n",
    "<img src=\"table.jpg\" alt = \"simple economy\" width=\"400\"/>\n",
    "\n",
    "suppose that the open sector has a demand for $7900 worth of coal, $3950 worth of Electric and $1975 worth of steel.\n",
    "- a) Can the economy meet the demand?\n",
    "- b) If so, find a production vector x that will meet it exactly.\n"
   ]
  },
  {
   "attachments": {},
   "cell_type": "markdown",
   "metadata": {},
   "source": [
    "### 0. Libraries"
   ]
  },
  {
   "cell_type": "code",
   "metadata": {
    "is_executing": true,
    "ExecuteTime": {
     "end_time": "2024-10-12T07:01:02.725183Z",
     "start_time": "2024-10-12T07:01:02.720666Z"
    }
   },
   "source": [
    "# !pip install numpy\n",
    "import numpy as np"
   ],
   "outputs": [],
   "execution_count": 2
  },
  {
   "attachments": {},
   "cell_type": "markdown",
   "metadata": {},
   "source": [
    "## 1. Deriving consumption matrix\n",
    " Consumption matrix C : this matrix's columns are the inputs required for each output.\n",
    " \n"
   ]
  },
  {
   "cell_type": "code",
   "execution_count": 2,
   "metadata": {},
   "outputs": [],
   "source": [
    "#CHNAGE THIS PART\n",
    "\"\"\"find the consumption matrix from the given table and write it down\"\"\"\n",
    "\n",
    "Consumption = np.array([[0.5,0.1,0.1]\n",
    "              ,[0.2,0.5,0.3]\n",
    "              ,[0.1,0.3,0.4]])"
   ]
  },
  {
   "attachments": {},
   "cell_type": "markdown",
   "metadata": {},
   "source": [
    "## 2. Finding the echelon form of the augmented matrix\n",
    "\n",
    "<p>\n",
    "  In this part, you are required to use the function defined in the previous section to find the echelon form of the augmented matrix [I - C | d]. The column vector <i>d</i> is called the outside demand vector. Since the product-producing sectors consume some of their own output, the monetary value of their output must cover both their own needs and the outside demand.\n",
    "</p>\n",
    "\n",
    "<p>\n",
    "  The column vector <i>x</i>, which contains the monetary values as successive components, is called the production vector for the economy. By multiplying <i>x</i> by the consumption matrix <i>C</i>, we obtain <i>Cx</i>, the portion of the production vector that will be consumed by the productive sectors. This vector <i>Cx</i> is referred to as the intermediate demand vector for the economy.\n",
    "</p>\n",
    "\n",
    "<p>\n",
    "  Once the intermediate demand is met, the portion of the production that remains to satisfy the outside demand is <i>x - Cx</i>. Therefore, <i>x</i> must satisfy the equation:\n",
    "</p>\n",
    "\n",
    "<p style=\"text-align: center; font-size: 24px;\">\n",
    "  x - Cx = d\n",
    "</p>\n",
    "\n",
    "<p>\n",
    "  This equation can be rewritten in a more convenient form:\n",
    "</p>\n",
    "\n",
    "<p style=\"text-align: center; font-size: 24px;\">\n",
    "  (I - C)x = d\n",
    "</p>\n",
    "\n",
    "<p>\n",
    "  The matrix <i>I - C</i> is called the Leontief matrix, and the equation <i>(I - C)x = d</i> is known as the Leontief equation.\n",
    "</p>\n"
   ]
  },
  {
   "attachments": {},
   "cell_type": "markdown",
   "metadata": {},
   "source": [
    "### 2.1. Row Echelon Form\n",
    "concat the I-C matrix and d vector and give the augmented matrix to the function. (Attention: your function should work for all possible matrices!)"
   ]
  },
  {
   "cell_type": "code",
   "metadata": {
    "ExecuteTime": {
     "end_time": "2024-10-12T08:03:56.982160Z",
     "start_time": "2024-10-12T08:03:56.974819Z"
    }
   },
   "source": [
    "# def row_echelon(A):\n",
    "#     #CHNAGE THIS PART\n",
    "#     \"\"\" Define an algorithm to find the row-echelon form of the input matrix, row-echelon form of a matrix is not unique, so any true row-echelon form is acceptable.\"\"\"\n",
    "#    \n",
    "\n",
    "def row_echelon(matrix):\n",
    "\n",
    "    A = np.array(matrix, dtype=float)\n",
    "    rows, cols = A.shape\n",
    "\n",
    "    pivot_row = 0\n",
    "\n",
    "    for col in range(cols):\n",
    "        if pivot_row >= rows:\n",
    "            break\n",
    "\n",
    "        max_row = np.argmax(np.abs(A[pivot_row:rows, col])) + pivot_row\n",
    "\n",
    "        if A[max_row, col] == 0:\n",
    "            continue\n",
    "\n",
    "        A[[pivot_row, max_row]] = A[[max_row, pivot_row]]\n",
    "\n",
    "        for r in range(pivot_row + 1, rows):\n",
    "            A[r] -= (A[r, col] / A[pivot_row, col]) * A[pivot_row]\n",
    "\n",
    "        pivot_row += 1\n",
    "\n",
    "    return A"
   ],
   "outputs": [],
   "execution_count": 78
  },
  {
   "cell_type": "code",
   "metadata": {
    "ExecuteTime": {
     "end_time": "2024-10-12T08:03:58.839928Z",
     "start_time": "2024-10-12T08:03:58.824330Z"
    }
   },
   "source": [
    "#DO NOT CHANGE THIS PART\n",
    "C = np.array([[0.5,0.1,0.1]\n",
    "              ,[0.2,0.5,0.3]\n",
    "              ,[0.1,0.3,0.4]])\n",
    "d = np.array([[7900]\n",
    "              ,[3950]\n",
    "              ,[1975]])\n",
    "A = np.array([[0.5,-0.1,-0.1,7900]\n",
    "              ,[-0.2,0.5,-0.3,3950]\n",
    "              ,[-0.1,-0.3,0.6,1975]])\n",
    "print(row_echelon(A))\n",
    "\"\"\"Notice that any true row echelon form is acceptable. an example is given below:\n",
    "expected_output = ([[1,-0.2,-0.2,15800]\n",
    "                ,[0,23,-17,355500]\n",
    "                ,[0,0,1,24750]])\n",
    "\"\"\""
   ],
   "outputs": [
    {
     "name": "stdout",
     "output_type": "stream",
     "text": [
      "[[ 5.00000000e-01 -1.00000000e-01 -1.00000000e-01  7.90000000e+03]\n",
      " [ 0.00000000e+00  4.60000000e-01 -3.40000000e-01  7.11000000e+03]\n",
      " [ 0.00000000e+00  0.00000000e+00  3.43478261e-01  8.50108696e+03]]\n"
     ]
    },
    {
     "data": {
      "text/plain": [
       "'Notice that any true row echelon form is acceptable. an example is given below:\\nexpected_output = ([[1,-0.2,-0.2,15800]\\n                ,[0,23,-17,355500]\\n                ,[0,0,1,24750]])\\n'"
      ]
     },
     "execution_count": 79,
     "metadata": {},
     "output_type": "execute_result"
    }
   ],
   "execution_count": 79
  },
  {
   "attachments": {},
   "cell_type": "markdown",
   "metadata": {},
   "source": [
    "### 2.2. Reduce Row Echelon Form"
   ]
  },
  {
   "cell_type": "code",
   "metadata": {
    "ExecuteTime": {
     "end_time": "2024-10-12T08:04:07.122294Z",
     "start_time": "2024-10-12T08:04:07.108607Z"
    }
   },
   "source": [
    "# def reduce(A):\n",
    "#    #CHNAGE THIS PART\n",
    "#   \"\"\" Define an algorithm to find the reduced-row-echelon form of the input matrix \n",
    "#      ATTENTION : Assume  the input matrix is already in row-echelon form!\"\"\"\n",
    "\n",
    "def reduce(A):\n",
    "    \n",
    "    rows, cols = A.shape\n",
    "    A = A.astype(float)\n",
    "    for i in range(rows - 1, -1, -1):\n",
    "        pivot_col = np.argmax(A[i] != 0) if np.any(A[i] != 0) else -1\n",
    "\n",
    "        if pivot_col != -1:\n",
    "            A[i] = A[i] / A[i, pivot_col]\n",
    "\n",
    "            for j in range(i - 1, -1, -1):\n",
    "                if A[j, pivot_col] != 0:\n",
    "                    A[j] -= A[i] * A[j, pivot_col]\n",
    "\n",
    "    return A"
   ],
   "outputs": [],
   "execution_count": 80
  },
  {
   "cell_type": "code",
   "metadata": {
    "ExecuteTime": {
     "end_time": "2024-10-12T08:04:09.881725Z",
     "start_time": "2024-10-12T08:04:09.872247Z"
    }
   },
   "source": [
    "#DO NOT CHANGE THIS PART\n",
    "B = np.array([[1,-0.2,-0.2,15800]\n",
    "                ,[0,23,-17,355500]\n",
    "                ,[0,0,1,24750]])\n",
    "print(reduce(B))\n",
    "\"\"\"expected_output = ([[1,0,0,27500]\n",
    "                ,[0,1,0,33750]\n",
    "                ,[0,0,1,24750]])\"\"\"\n"
   ],
   "outputs": [
    {
     "name": "stdout",
     "output_type": "stream",
     "text": [
      "[[1.000e+00 0.000e+00 0.000e+00 2.750e+04]\n",
      " [0.000e+00 1.000e+00 0.000e+00 3.375e+04]\n",
      " [0.000e+00 0.000e+00 1.000e+00 2.475e+04]]\n"
     ]
    },
    {
     "data": {
      "text/plain": [
       "'expected_output = ([[1,0,0,27500]\\n                ,[0,1,0,33750]\\n                ,[0,0,1,24750]])'"
      ]
     },
     "execution_count": 81,
     "metadata": {},
     "output_type": "execute_result"
    }
   ],
   "execution_count": 81
  },
  {
   "cell_type": "markdown",
   "metadata": {},
   "source": [
    "## 3. The solution\n",
    "In this section, you are requiered to find the production vector x that covers the intermediate and outside economical demand"
   ]
  },
  {
   "attachments": {},
   "cell_type": "markdown",
   "metadata": {},
   "source": [
    "### 3.1. Existence of the Solution\n",
    "Based on the reduced form of the augmented matrix and prior to finding the answer, make sure the solution exists!"
   ]
  },
  {
   "cell_type": "code",
   "metadata": {
    "ExecuteTime": {
     "end_time": "2024-10-12T08:04:13.428581Z",
     "start_time": "2024-10-12T08:04:13.423682Z"
    }
   },
   "source": [
    "# def is_consistent(A):\n",
    "#     #CHNAGE THIS PART\n",
    "#    \"\"\" Make sure the system has a solution or not \"\"\"\n",
    "\n",
    "def is_consistent(A):\n",
    "    rows, cols = A.shape\n",
    "    A = A.astype(float)\n",
    "    for i in range(rows):\n",
    "        if A[i, i] == 0:\n",
    "            for j in range(i + 1, rows):\n",
    "                if A[j, i] != 0:\n",
    "                    A[[i, j]] = A[[j, i]]\n",
    "                    break\n",
    "        \n",
    "        for j in range(i + 1, rows):\n",
    "            if A[j, i] != 0:\n",
    "                factor = A[j, i] / A[i, i]\n",
    "                A[j] -= factor * A[i]\n",
    "\n",
    "    for i in range(rows):\n",
    "        if np.all(A[i, :-1] == 0) and A[i, -1] != 0:\n",
    "            return False\n",
    "\n",
    "    return True"
   ],
   "outputs": [],
   "execution_count": 82
  },
  {
   "cell_type": "code",
   "metadata": {
    "collapsed": false,
    "ExecuteTime": {
     "end_time": "2024-10-12T08:04:15.408128Z",
     "start_time": "2024-10-12T08:04:15.392677Z"
    }
   },
   "source": [
    "#e.g.\n",
    "# DO NOT CHANGE THIS CELL\n",
    "\n",
    "print(is_consistent(B))\n",
    "\"\"\"\n",
    "expected_output: true\n",
    "\"\"\""
   ],
   "outputs": [
    {
     "name": "stdout",
     "output_type": "stream",
     "text": [
      "True\n"
     ]
    },
    {
     "data": {
      "text/plain": [
       "'\\nexpected_output: true\\n'"
      ]
     },
     "execution_count": 83,
     "metadata": {},
     "output_type": "execute_result"
    }
   ],
   "execution_count": 83
  },
  {
   "attachments": {},
   "cell_type": "markdown",
   "metadata": {},
   "source": [
    "### 3.2. Finding a Solution\n",
    "If the system has a solution, find and return it.\n",
    "If the system has infinite solutions, return only one solution. (If there are some free variables assume them as '0')"
   ]
  },
  {
   "cell_type": "code",
   "metadata": {
    "ExecuteTime": {
     "end_time": "2024-10-12T08:04:17.849067Z",
     "start_time": "2024-10-12T08:04:17.840884Z"
    }
   },
   "source": [
    "# def solve(A):\n",
    "#     #CHNAGE THIS PART\n",
    "#   \"\"\" Find the solution, A is the augmented matrix \"\"\"   \n",
    "\n",
    "def solve(A):\n",
    "\n",
    "    A_reduced = row_echelon(A)\n",
    "\n",
    "    if not is_consistent(A):\n",
    "        return \"This system has no solution.\"\n",
    "\n",
    "    A_reduced = reduce(A_reduced)\n",
    "\n",
    "    rows, cols = A_reduced.shape\n",
    "    solutions = np.zeros((rows, 1))\n",
    "\n",
    "    for i in range(rows):\n",
    "        if np.all(A_reduced[i, :-1] == 0) and A_reduced[i, -1] != 0:\n",
    "            return \"This system has no solution.\"\n",
    "        elif np.any(A_reduced[i, :-1] != 0):\n",
    "            solutions[i] = A_reduced[i, -1] \n",
    "\n",
    "    return solutions"
   ],
   "outputs": [],
   "execution_count": 84
  },
  {
   "cell_type": "code",
   "metadata": {
    "ExecuteTime": {
     "end_time": "2024-10-12T08:04:19.679113Z",
     "start_time": "2024-10-12T08:04:19.667118Z"
    }
   },
   "source": [
    "#e.g.\n",
    "# DO NOT CHANGE THIS CELL\n",
    "\n",
    "\n",
    "B = np.array([[ 1, 0, 0, 27500],\n",
    "              [ 0, 1, 0, 33750],\n",
    "              [ 0, 0, 1, 24750]])\n",
    "print(solve(B))\n",
    "\"\"\"\n",
    "Expected_output = [[27500],\n",
    "                   [33750],\n",
    "                   [24750]]\n",
    "    \n",
    "\"\"\"\n",
    "\n",
    "# more examples:\n",
    "\n",
    "A = np.array([[1,2,-1,0],\n",
    "              [3,6,0,4],\n",
    "              [2,4,1,3]])\n",
    "\n",
    "print(solve(A))\n",
    "\"\"\" expected output:\n",
    "this system has no answer\"\"\"\n",
    "\n",
    "D = np.array([[1,2,3],\n",
    "              [4,5,6],\n",
    "              [7,8,9]])\n",
    "print(solve(D))\n",
    "\"\"\" expected output:\n",
    "x1 = -1 , x2 = 2\"\"\"\n",
    "\n",
    "\n",
    "E = np.array([[1,2,3,4],\n",
    "              [0,1,2,5]])\n",
    "print(solve(E))\n",
    "\"\"\" expected output:\n",
    "x1 = -6 , x2 = 5 , x3 = 0\"\"\"\n"
   ],
   "outputs": [
    {
     "name": "stdout",
     "output_type": "stream",
     "text": [
      "[[27500.]\n",
      " [33750.]\n",
      " [24750.]]\n",
      "This system has no solution.\n",
      "[[-1.]\n",
      " [ 0.]\n",
      " [ 2.]]\n",
      "[[-6.]\n",
      " [ 5.]]\n"
     ]
    },
    {
     "data": {
      "text/plain": [
       "' expected output:\\nx1 = -6 , x2 = 5 , x3 = 0'"
      ]
     },
     "execution_count": 85,
     "metadata": {},
     "output_type": "execute_result"
    }
   ],
   "execution_count": 85
  }
 ],
 "metadata": {
  "kernelspec": {
   "display_name": "Python 3",
   "language": "python",
   "name": "python3"
  },
  "language_info": {
   "codemirror_mode": {
    "name": "ipython",
    "version": 3
   },
   "file_extension": ".py",
   "mimetype": "text/x-python",
   "name": "python",
   "nbconvert_exporter": "python",
   "pygments_lexer": "ipython3",
   "version": "3.12.3"
  },
  "orig_nbformat": 4
 },
 "nbformat": 4,
 "nbformat_minor": 2
}
