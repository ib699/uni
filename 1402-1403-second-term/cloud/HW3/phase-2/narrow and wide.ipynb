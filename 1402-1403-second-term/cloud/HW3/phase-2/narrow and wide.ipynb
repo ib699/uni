{
 "cells": [
  {
   "cell_type": "code",
   "execution_count": 1,
   "id": "55b38a5f",
   "metadata": {},
   "outputs": [
    {
     "name": "stderr",
     "output_type": "stream",
     "text": [
      "24/06/02 13:58:12 WARN NativeCodeLoader: Unable to load native-hadoop library for your platform... using builtin-java classes where applicable\n",
      "Using Spark's default log4j profile: org/apache/spark/log4j-defaults.properties\n",
      "Setting default log level to \"WARN\".\n",
      "To adjust logging level use sc.setLogLevel(newLevel). For SparkR, use setLogLevel(newLevel).\n",
      "24/06/02 13:58:13 WARN Utils: Service 'SparkUI' could not bind on port 4040. Attempting port 4041.\n",
      "                                                                                \r"
     ]
    },
    {
     "name": "stdout",
     "output_type": "stream",
     "text": [
      "Narrow Transformation Result: [('a', 2), ('b', 4), ('c', 6), ('a', 8)]\n",
      "Narrow Transformation Time: 1.2275185585021973\n",
      "Wide Transformation Result: [('a', 5), ('b', 2), ('c', 3)]\n",
      "Wide Transformation Time: 0.6130013465881348\n"
     ]
    }
   ],
   "source": [
    "from pyspark.sql import SparkSession\n",
    "import time\n",
    "\n",
    "\n",
    "spark = SparkSession.builder.master(\"local\").appName(\"TransformationsExample\").getOrCreate()\n",
    "\n",
    "data = [(\"a\", 1), (\"b\", 2), (\"c\", 3), (\"a\", 4)]\n",
    "rdd = spark.sparkContext.parallelize(data)\n",
    "\n",
    "\n",
    "start_time = time.time()\n",
    "mapped_rdd = rdd.map(lambda x: (x[0], x[1] * 2))\n",
    "mapped_result = mapped_rdd.collect()\n",
    "narrow_time = time.time() - start_time\n",
    "\n",
    "print(\"Narrow Transformation Result:\", mapped_result)\n",
    "print(\"Narrow Transformation Time:\", narrow_time)\n",
    "\n",
    "\n",
    "start_time = time.time()\n",
    "reduced_rdd = rdd.reduceByKey(lambda a, b: a + b)\n",
    "reduced_result = reduced_rdd.collect()\n",
    "wide_time = time.time() - start_time\n",
    "\n",
    "print(\"Wide Transformation Result:\", reduced_result)\n",
    "print(\"Wide Transformation Time:\", wide_time)\n",
    "\n",
    "spark.stop()\n"
   ]
  },
  {
   "cell_type": "code",
   "execution_count": null,
   "id": "7976c03b",
   "metadata": {},
   "outputs": [],
   "source": []
  }
 ],
 "metadata": {
  "kernelspec": {
   "display_name": "Python 3 (ipykernel)",
   "language": "python",
   "name": "python3"
  },
  "language_info": {
   "codemirror_mode": {
    "name": "ipython",
    "version": 3
   },
   "file_extension": ".py",
   "mimetype": "text/x-python",
   "name": "python",
   "nbconvert_exporter": "python",
   "pygments_lexer": "ipython3",
   "version": "3.9.2"
  }
 },
 "nbformat": 4,
 "nbformat_minor": 5
}
